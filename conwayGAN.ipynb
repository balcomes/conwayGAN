{
 "cells": [
  {
   "cell_type": "code",
   "execution_count": 1,
   "metadata": {},
   "outputs": [],
   "source": [
    "from numpy import random\n",
    "from IPython.display import clear_output\n",
    "import time\n",
    "import numpy as np\n",
    "from scipy import stats\n",
    "import pandas as pd\n",
    "import matplotlib.pyplot as plt\n",
    "from JSAnimation.IPython_display import display_animation, anim_to_html\n",
    "from matplotlib import animation"
   ]
  },
  {
   "cell_type": "code",
   "execution_count": 2,
   "metadata": {},
   "outputs": [],
   "source": [
    "def con_run(frame_n = 100,\n",
    "            start_pop = 10,\n",
    "            xd = 10,\n",
    "            yd = 10,\n",
    "            sample_n = 50):\n",
    "    \n",
    "    ffs = []\n",
    "    scores = []\n",
    "    \n",
    "    for i in range(sample_n):\n",
    "    \n",
    "        c = np.append(random.choice(xd,start_pop),random.choice(yd,start_pop)).reshape(start_pop,2)\n",
    "        a = np.repeat(0,xd*yd).reshape([xd,yd])\n",
    "        for i in range(start_pop):\n",
    "            a[c[i][0],c[i][1]] = 1\n",
    "\n",
    "        for i in range(frame_n-1):\n",
    "            b = life_step(a.reshape([i+1,xd, yd])[i,:]).flatten()\n",
    "            a = np.append(a,b)\n",
    "\n",
    "        a = a.reshape(frame_n, xd, yd)\n",
    "\n",
    "        score = (frame_n*xd*yd)/np.sum(a) * np.var(a.reshape([frame_n*xd*yd]), axis=0)\n",
    "\n",
    "        ffs = np.append(ffs,a[0].flatten())\n",
    "        scores = np.append(scores,score)\n",
    "    \n",
    "    return(ffs.reshape(sample_n,xd*yd),scores)"
   ]
  },
  {
   "cell_type": "code",
   "execution_count": 3,
   "metadata": {},
   "outputs": [],
   "source": [
    "def life_step(X):\n",
    "    \"\"\"Game of life step using generator expressions\"\"\"\n",
    "    nbrs_count = sum(np.roll(np.roll(X, i, 0), j, 1)\n",
    "                     for i in (-1, 0, 1) for j in (-1, 0, 1)\n",
    "                     if (i != 0 or j != 0))\n",
    "    return (nbrs_count == 3) | (X & (nbrs_count == 2))"
   ]
  },
  {
   "cell_type": "code",
   "execution_count": 4,
   "metadata": {},
   "outputs": [],
   "source": [
    "def life_animation(X, dpi=80, frames=10, interval=300, mode='loop'):\n",
    "    \n",
    "    X = np.asarray(X)\n",
    "    assert X.ndim == 2\n",
    "    X = X.astype(int)\n",
    "    \n",
    "    X_blank = np.zeros_like(X)\n",
    "    figsize = (X.shape[1] * 10. / dpi, X.shape[0] * 10. / dpi)\n",
    "\n",
    "    fig = plt.figure(figsize=figsize, dpi=dpi)\n",
    "    ax = fig.add_axes([0, 0, 1, 1], xticks=[], yticks=[], frameon=False)\n",
    "    im = ax.imshow(X, cmap='hot', interpolation='nearest')\n",
    "    im.set_clim(-0.05, 10)\n",
    "    \n",
    "    # initialization function: plot the background of each frame\n",
    "    def init():\n",
    "        im.set_data(X_blank)\n",
    "        return (im,)\n",
    "    \n",
    "    # animation function.  This is called sequentially\n",
    "    def animate(i):\n",
    "        im.set_data(animate.X)\n",
    "        animate.X = life_step(animate.X)\n",
    "        return (im,)\n",
    "    animate.X = X\n",
    "    anim = animation.FuncAnimation(fig, animate, init_func=init, frames=frames, interval=interval)\n",
    "    \n",
    "    return display_animation(anim, default_mode=mode)      "
   ]
  },
  {
   "cell_type": "code",
   "execution_count": 5,
   "metadata": {},
   "outputs": [],
   "source": [
    "def sig_func(x,y):\n",
    "    return(1/(1+np.exp(-(np.dot(x,y)))))"
   ]
  },
  {
   "cell_type": "code",
   "execution_count": 6,
   "metadata": {},
   "outputs": [],
   "source": [
    "def train_des(des_training_inputs,\n",
    "              des_training_outputs,\n",
    "              des_weights,\n",
    "              iteration_n):\n",
    "    \n",
    "    for i in range(iteration_n):\n",
    "        result = sig_func(des_training_inputs, des_weights)\n",
    "        des_weights += np.dot(des_training_inputs.T, (des_training_outputs - result) * result * (1 - result))\n",
    "        \n",
    "    return(des_weights)"
   ]
  },
  {
   "cell_type": "code",
   "execution_count": 7,
   "metadata": {},
   "outputs": [],
   "source": [
    "def train_gen(gen_noise,\n",
    "              gen_weights,\n",
    "              des_weights,\n",
    "              iteration_n):\n",
    "    \n",
    "    for i in range(iteration_n):\n",
    "        generated = sig_func(gen_noise, gen_weights)\n",
    "        result = sig_func(generated, des_weights)\n",
    "        top = np.argsort(result.flatten())[::-1][:top_n]\n",
    "        bottom = np.argsort(result.flatten())[:top_n]\n",
    "        gen_weights += np.dot(gen_noise[top].T, (generated[top] - generated[bottom]) * generated[bottom] * (1 - generated[bottom]))\n",
    "\n",
    "    return(gen_weights)"
   ]
  },
  {
   "cell_type": "code",
   "execution_count": null,
   "metadata": {},
   "outputs": [],
   "source": [
    "iteration_n = 10000\n",
    "passes = 1\n",
    "nrows = 100\n",
    "top_n = 50\n",
    "sample_n = 50\n",
    "xd = 40\n",
    "yd = 40\n",
    "\n",
    "des_td = con_run(xd = xd, yd = yd)\n",
    "\n",
    "des_training_inputs = des_td[0]\n",
    "\n",
    "des_training_outputs = des_td[1].reshape(sample_n,1)\n",
    "\n",
    "des_weights = 2 * random.random((des_training_inputs.shape[1], des_training_outputs.shape[1])) - 1\n",
    "\n",
    "gen_noise = random.choice([0,1], [nrows, des_training_inputs.shape[1]])"
   ]
  },
  {
   "cell_type": "code",
   "execution_count": null,
   "metadata": {},
   "outputs": [],
   "source": [
    "for i in range(passes):\n",
    "\n",
    "    gen_weights = 2 * random.random((des_training_inputs.shape[1], des_training_inputs.shape[1])) - 1\n",
    "    \n",
    "    des_weights = train_des(des_training_inputs,\n",
    "                            des_training_outputs,\n",
    "                            des_weights,\n",
    "                            iteration_n)\n",
    "    \n",
    "    gen_weights = train_gen(gen_noise,\n",
    "                            gen_weights,\n",
    "                            des_weights,\n",
    "                            iteration_n)\n",
    "    \n",
    "    gen_result = sig_func(gen_noise, gen_weights)\n",
    "\n",
    "    clear_output(wait=True)\n",
    "    \n",
    "    im = np.unique(np.round(gen_result), axis=0)\n",
    "    score = sig_func(im, des_weights)\n",
    "    top = np.argsort(score)[::-1][0]\n",
    "    top_score = score[top]\n",
    "    top_im = im[top].reshape([xd,yd])\n",
    "    \n",
    "    print(top_im)\n",
    "    print(top_score)"
   ]
  },
  {
   "cell_type": "code",
   "execution_count": null,
   "metadata": {},
   "outputs": [],
   "source": [
    "life_animation(top_im, dpi=15, frames=100, interval=50, mode='once')"
   ]
  },
  {
   "cell_type": "code",
   "execution_count": null,
   "metadata": {},
   "outputs": [],
   "source": []
  }
 ],
 "metadata": {
  "kernelspec": {
   "display_name": "Python 3",
   "language": "python",
   "name": "python3"
  },
  "language_info": {
   "codemirror_mode": {
    "name": "ipython",
    "version": 3
   },
   "file_extension": ".py",
   "mimetype": "text/x-python",
   "name": "python",
   "nbconvert_exporter": "python",
   "pygments_lexer": "ipython3",
   "version": "3.6.5"
  }
 },
 "nbformat": 4,
 "nbformat_minor": 4
}
